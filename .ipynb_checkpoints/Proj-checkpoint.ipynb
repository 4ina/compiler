{
 "cells": [
  {
   "cell_type": "code",
   "execution_count": 3,
   "metadata": {},
   "outputs": [],
   "source": [
    "class Token(object):\n",
    "    def __init__(self, type, value):\n",
    "        self.type = type\n",
    "        self.value = value\n",
    "\n",
    "    def __str__(self):\n",
    "        return 'Token: ' +self.type + ', ' + self.value"
   ]
  },
  {
   "cell_type": "code",
   "execution_count": 20,
   "metadata": {},
   "outputs": [],
   "source": [
    "import re\n",
    "\n",
    "#print(re.match('[a-zA-Z]','asd'))\n",
    "\n",
    "#print(re.match('\\s',' '))"
   ]
  },
  {
   "cell_type": "code",
   "execution_count": 5,
   "metadata": {},
   "outputs": [],
   "source": [
    "VALUES = set(['break', 'continue', 'if', 'int', 'return', 'void', 'while'])# 'double', 'else', 'for'\n"
   ]
  },
  {
   "cell_type": "code",
   "execution_count": 26,
   "metadata": {},
   "outputs": [],
   "source": [
    "def Tokenizer(text):\n",
    "    current = 0\n",
    "    tokens = []\n",
    "    while current < len(text):\n",
    "        element = text[current]\n",
    "        \n",
    "        if re.match('\\s',element) != None:\n",
    "            current += 1\n",
    "            continue\n",
    "        \n",
    "        if re.match('[0-9]',element) != None:\n",
    "            nmbr = ''\n",
    "            while re.match('[0-9]',element) != None:\n",
    "                nmbr += element\n",
    "                current = current + 1\n",
    "                element = text[current]\n",
    "            tokens.append((Token)(\"number\", nmbr))\n",
    "       \n",
    "        if re.match('[a-zA-Z]', element) != None or re.match('.', element) != None:\n",
    "            val = ''\n",
    "            while re.match('[a-zA-Z]',element):# != None or re.match('.', element) != None:\n",
    "                val += element\n",
    "                current = current + 1\n",
    "                element = text[current]\n",
    "            tokens.append((Token)(\"name\", val))\n",
    "\n",
    "        if element == '{':\n",
    "            tokens.append((Token)(\"param\", '{'))\n",
    "            current += 1\n",
    "            continue\n",
    "            \n",
    "        if element == '}':\n",
    "            tokens.append((Token)(\"param\", '}'))\n",
    "            current += 1\n",
    "            continue\n",
    "\n",
    "        if element == '=':\n",
    "            value = element + text[current+1]\n",
    "            if value = '==':\n",
    "                tokens.append((Token)(\"equal\", '=='))\n",
    "                current += 2\n",
    "            else:\n",
    "                tokens.append((Token)(\"ass\"))\n",
    "            current += 1\n",
    "            continue\n",
    "        \n",
    "        '''PLUS_MINUS = '+-'\n",
    "        \n",
    "        if element in PLUS_MINUS:\n",
    "            tokens.append((Token)(\"SMALL_SIGN\", element))\n",
    "            current += 1\n",
    "            continue\n",
    "            \n",
    "        MULT_DIV = '*/'\n",
    "        \n",
    "        if element in MULT_DIV:\n",
    "            tokens.append((Token)(\"BIG_SIGN\", element))\n",
    "            current += 1\n",
    "            continue\n",
    "        '''\n",
    "        #throw new TypeError\n",
    "        current += 1\n",
    "    return tokens"
   ]
  },
  {
   "cell_type": "code",
   "execution_count": 31,
   "metadata": {},
   "outputs": [
    {
     "ename": "IndexError",
     "evalue": "string index out of range",
     "output_type": "error",
     "traceback": [
      "\u001b[0;31m---------------------------------------------------------------------------\u001b[0m",
      "\u001b[0;31mIndexError\u001b[0m                                Traceback (most recent call last)",
      "\u001b[0;32m<ipython-input-31-6af5c947e8bc>\u001b[0m in \u001b[0;36m<module>\u001b[0;34m\u001b[0m\n\u001b[0;32m----> 1\u001b[0;31m \u001b[0mtoke\u001b[0m \u001b[0;34m=\u001b[0m \u001b[0mTokenizer\u001b[0m\u001b[0;34m(\u001b[0m\u001b[0;34m\"{}1+2 - 3 * 2 - 1;{}\"\u001b[0m\u001b[0;34m)\u001b[0m\u001b[0;34m\u001b[0m\u001b[0;34m\u001b[0m\u001b[0m\n\u001b[0m\u001b[1;32m      2\u001b[0m \u001b[0mprint\u001b[0m\u001b[0;34m(\u001b[0m\u001b[0mlen\u001b[0m\u001b[0;34m(\u001b[0m\u001b[0mtoke\u001b[0m\u001b[0;34m)\u001b[0m\u001b[0;34m)\u001b[0m\u001b[0;34m\u001b[0m\u001b[0;34m\u001b[0m\u001b[0m\n\u001b[1;32m      3\u001b[0m \u001b[0;31m#for i in range(len(toke)):\u001b[0m\u001b[0;34m\u001b[0m\u001b[0;34m\u001b[0m\u001b[0;34m\u001b[0m\u001b[0m\n\u001b[1;32m      4\u001b[0m \u001b[0;31m#    print(toke[i])\u001b[0m\u001b[0;34m\u001b[0m\u001b[0;34m\u001b[0m\u001b[0;34m\u001b[0m\u001b[0m\n",
      "\u001b[0;32m<ipython-input-26-44a9560810f8>\u001b[0m in \u001b[0;36mTokenizer\u001b[0;34m(text)\u001b[0m\n\u001b[1;32m     22\u001b[0m                 \u001b[0mval\u001b[0m \u001b[0;34m+=\u001b[0m \u001b[0melement\u001b[0m\u001b[0;34m\u001b[0m\u001b[0;34m\u001b[0m\u001b[0m\n\u001b[1;32m     23\u001b[0m                 \u001b[0mcurrent\u001b[0m \u001b[0;34m=\u001b[0m \u001b[0mcurrent\u001b[0m \u001b[0;34m+\u001b[0m \u001b[0;36m1\u001b[0m\u001b[0;34m\u001b[0m\u001b[0;34m\u001b[0m\u001b[0m\n\u001b[0;32m---> 24\u001b[0;31m                 \u001b[0melement\u001b[0m \u001b[0;34m=\u001b[0m \u001b[0mtext\u001b[0m\u001b[0;34m[\u001b[0m\u001b[0mcurrent\u001b[0m\u001b[0;34m]\u001b[0m\u001b[0;34m\u001b[0m\u001b[0;34m\u001b[0m\u001b[0m\n\u001b[0m\u001b[1;32m     25\u001b[0m             \u001b[0mtokens\u001b[0m\u001b[0;34m.\u001b[0m\u001b[0mappend\u001b[0m\u001b[0;34m(\u001b[0m\u001b[0;34m(\u001b[0m\u001b[0mToken\u001b[0m\u001b[0;34m)\u001b[0m\u001b[0;34m(\u001b[0m\u001b[0;34m\"name\"\u001b[0m\u001b[0;34m,\u001b[0m \u001b[0mval\u001b[0m\u001b[0;34m)\u001b[0m\u001b[0;34m)\u001b[0m\u001b[0;34m\u001b[0m\u001b[0;34m\u001b[0m\u001b[0m\n\u001b[1;32m     26\u001b[0m \u001b[0;34m\u001b[0m\u001b[0m\n",
      "\u001b[0;31mIndexError\u001b[0m: string index out of range"
     ]
    }
   ],
   "source": [
    "toke = Tokenizer(\"{}1+2 - 3 * 2 - 1;{}\")\n",
    "print(len(toke))\n",
    "#for i in range(len(toke)):\n",
    "#    print(toke[i])"
   ]
  },
  {
   "cell_type": "code",
   "execution_count": 6,
   "metadata": {},
   "outputs": [],
   "source": [
    "# Tokenizer tokenizer = new Tokenizer();\n",
    "#  tokenizer.add(\"sin|cos|exp|ln|sqrt\", 1); // function\n",
    "#  tokenizer.add(\"\\\\(\", 2); // open bracket\n",
    "#  tokenizer.add(\"\\\\)\", 3); // close bracket\n",
    "#  tokenizer.add(\"[+-]\", 4); // plus or minus\n",
    "#  tokenizer.add(\"[*/]\", 5); // mult or divide\n",
    "#  tokenizer.add(\"\\\\^\", 6); // raised\n",
    "#  tokenizer.add(\"[0-9]+\",7); // integer number\n",
    "#  tokenizer.add(\"[a-zA-Z][a-zA-Z0-9_]*\", 8); // variable"
   ]
  },
  {
   "cell_type": "code",
   "execution_count": null,
   "metadata": {},
   "outputs": [],
   "source": []
  },
  {
   "cell_type": "code",
   "execution_count": null,
   "metadata": {},
   "outputs": [],
   "source": []
  }
 ],
 "metadata": {
  "kernelspec": {
   "display_name": "Python 3",
   "language": "python",
   "name": "python3"
  },
  "language_info": {
   "codemirror_mode": {
    "name": "ipython",
    "version": 3
   },
   "file_extension": ".py",
   "mimetype": "text/x-python",
   "name": "python",
   "nbconvert_exporter": "python",
   "pygments_lexer": "ipython3",
   "version": "3.7.1"
  }
 },
 "nbformat": 4,
 "nbformat_minor": 2
}
